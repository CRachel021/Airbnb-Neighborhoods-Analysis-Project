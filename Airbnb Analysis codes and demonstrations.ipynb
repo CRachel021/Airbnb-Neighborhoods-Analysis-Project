{
 "cells": [
  {
   "cell_type": "code",
   "execution_count": 229,
   "metadata": {},
   "outputs": [],
   "source": [
    "import pandas as pd\n",
    "import numpy as np\n",
    "import math\n",
    "from collections import Counter, defaultdict\n",
    "import matplotlib.pyplot as plt\n",
    "import warnings\n",
    "import calendar\n",
    "import re\n",
    "import seaborn as sns\n",
    "from sklearn.linear_model import LinearRegression\n",
    "from geopy.distance import great_circle\n",
    "from sklearn.ensemble import RandomForestRegressor\n",
    "from sklearn.model_selection import train_test_split,cross_val_score\n",
    "from sklearn import preprocessing\n",
    "from sklearn.linear_model import LinearRegression, Lasso, Ridge\n",
    "from sklearn.metrics import f1_score, recall_score,roc_auc_score, confusion_matrix,mean_squared_error\n",
    "from sklearn.neighbors import KNeighborsRegressor\n",
    "import statsmodels.api as sm\n",
    "import xgboost as xgb\n",
    "from sklearn.model_selection import GridSearchCV\n",
    "from sklearn.neural_network import MLPClassifier\n",
    "\n",
    "warnings.filterwarnings('ignore')\n",
    "pd.set_option('display.width', 1000)\n"
   ]
  },
  {
   "cell_type": "code",
   "execution_count": 175,
   "metadata": {},
   "outputs": [
    {
     "data": {
      "text/html": [
       "<div>\n",
       "<style scoped>\n",
       "    .dataframe tbody tr th:only-of-type {\n",
       "        vertical-align: middle;\n",
       "    }\n",
       "\n",
       "    .dataframe tbody tr th {\n",
       "        vertical-align: top;\n",
       "    }\n",
       "\n",
       "    .dataframe thead th {\n",
       "        text-align: right;\n",
       "    }\n",
       "</style>\n",
       "<table border=\"1\" class=\"dataframe\">\n",
       "  <thead>\n",
       "    <tr style=\"text-align: right;\">\n",
       "      <th></th>\n",
       "      <th>id</th>\n",
       "      <th>listing_url</th>\n",
       "      <th>scrape_id</th>\n",
       "      <th>last_scraped</th>\n",
       "      <th>name</th>\n",
       "      <th>summary</th>\n",
       "      <th>space</th>\n",
       "      <th>description</th>\n",
       "      <th>experiences_offered</th>\n",
       "      <th>neighborhood_overview</th>\n",
       "      <th>...</th>\n",
       "      <th>instant_bookable</th>\n",
       "      <th>is_business_travel_ready</th>\n",
       "      <th>cancellation_policy</th>\n",
       "      <th>require_guest_profile_picture</th>\n",
       "      <th>require_guest_phone_verification</th>\n",
       "      <th>calculated_host_listings_count</th>\n",
       "      <th>calculated_host_listings_count_entire_homes</th>\n",
       "      <th>calculated_host_listings_count_private_rooms</th>\n",
       "      <th>calculated_host_listings_count_shared_rooms</th>\n",
       "      <th>reviews_per_month</th>\n",
       "    </tr>\n",
       "  </thead>\n",
       "  <tbody>\n",
       "    <tr>\n",
       "      <th>0</th>\n",
       "      <td>3781</td>\n",
       "      <td>https://www.airbnb.com/rooms/3781</td>\n",
       "      <td>2.019030e+13</td>\n",
       "      <td>3/12/19</td>\n",
       "      <td>HARBORSIDE-Walk to subway</td>\n",
       "      <td>Fully separate apartment in a two apartment bu...</td>\n",
       "      <td>This is a totally separate apartment located o...</td>\n",
       "      <td>Fully separate apartment in a two apartment bu...</td>\n",
       "      <td>none</td>\n",
       "      <td>Mostly quiet ( no loud music, no crowed sidewa...</td>\n",
       "      <td>...</td>\n",
       "      <td>f</td>\n",
       "      <td>f</td>\n",
       "      <td>super_strict_30</td>\n",
       "      <td>f</td>\n",
       "      <td>f</td>\n",
       "      <td>1</td>\n",
       "      <td>1</td>\n",
       "      <td>0</td>\n",
       "      <td>0</td>\n",
       "      <td>0.34</td>\n",
       "    </tr>\n",
       "    <tr>\n",
       "      <th>1</th>\n",
       "      <td>5506</td>\n",
       "      <td>https://www.airbnb.com/rooms/5506</td>\n",
       "      <td>2.019030e+13</td>\n",
       "      <td>3/12/19</td>\n",
       "      <td>**$79 Special **   Private! Minutes to center!</td>\n",
       "      <td>This is a private guest room with private bath...</td>\n",
       "      <td>**THE BEST Value in BOSTON!!*** PRIVATE GUEST ...</td>\n",
       "      <td>This is a private guest room with private bath...</td>\n",
       "      <td>none</td>\n",
       "      <td>Peacful, Architecturally interesting, historic...</td>\n",
       "      <td>...</td>\n",
       "      <td>t</td>\n",
       "      <td>f</td>\n",
       "      <td>strict_14_with_grace_period</td>\n",
       "      <td>f</td>\n",
       "      <td>f</td>\n",
       "      <td>6</td>\n",
       "      <td>6</td>\n",
       "      <td>0</td>\n",
       "      <td>0</td>\n",
       "      <td>0.67</td>\n",
       "    </tr>\n",
       "    <tr>\n",
       "      <th>2</th>\n",
       "      <td>6695</td>\n",
       "      <td>https://www.airbnb.com/rooms/6695</td>\n",
       "      <td>2.019030e+13</td>\n",
       "      <td>3/12/19</td>\n",
       "      <td>$99 Special!! Home Away! Condo</td>\n",
       "      <td>NaN</td>\n",
       "      <td>** WELCOME *** FULL PRIVATE APARTMENT In a His...</td>\n",
       "      <td>** WELCOME *** FULL PRIVATE APARTMENT In a His...</td>\n",
       "      <td>none</td>\n",
       "      <td>Peaceful, Architecturally interesting, histori...</td>\n",
       "      <td>...</td>\n",
       "      <td>t</td>\n",
       "      <td>f</td>\n",
       "      <td>strict_14_with_grace_period</td>\n",
       "      <td>f</td>\n",
       "      <td>f</td>\n",
       "      <td>6</td>\n",
       "      <td>6</td>\n",
       "      <td>0</td>\n",
       "      <td>0</td>\n",
       "      <td>0.73</td>\n",
       "    </tr>\n",
       "    <tr>\n",
       "      <th>3</th>\n",
       "      <td>6976</td>\n",
       "      <td>https://www.airbnb.com/rooms/6976</td>\n",
       "      <td>2.019030e+13</td>\n",
       "      <td>3/12/19</td>\n",
       "      <td>Mexican Folk Art Haven in Boston Residential Area</td>\n",
       "      <td>Come stay with me in Boston's Roslindale neigh...</td>\n",
       "      <td>This is a well-maintained, two-family house bu...</td>\n",
       "      <td>Come stay with me in Boston's Roslindale neigh...</td>\n",
       "      <td>none</td>\n",
       "      <td>The LOCATION: Roslindale is a safe and diverse...</td>\n",
       "      <td>...</td>\n",
       "      <td>f</td>\n",
       "      <td>f</td>\n",
       "      <td>moderate</td>\n",
       "      <td>t</td>\n",
       "      <td>f</td>\n",
       "      <td>1</td>\n",
       "      <td>0</td>\n",
       "      <td>1</td>\n",
       "      <td>0</td>\n",
       "      <td>0.64</td>\n",
       "    </tr>\n",
       "    <tr>\n",
       "      <th>4</th>\n",
       "      <td>8789</td>\n",
       "      <td>https://www.airbnb.com/rooms/8789</td>\n",
       "      <td>2.019030e+13</td>\n",
       "      <td>3/12/19</td>\n",
       "      <td>Curved Glass Studio/1bd facing Park</td>\n",
       "      <td>Bright, 1 bed with curved glass windows facing...</td>\n",
       "      <td>Fully Furnished studio with enclosed bedroom. ...</td>\n",
       "      <td>Bright, 1 bed with curved glass windows facing...</td>\n",
       "      <td>none</td>\n",
       "      <td>Beacon Hill is a historic neighborhood filled ...</td>\n",
       "      <td>...</td>\n",
       "      <td>f</td>\n",
       "      <td>f</td>\n",
       "      <td>strict_14_with_grace_period</td>\n",
       "      <td>f</td>\n",
       "      <td>f</td>\n",
       "      <td>10</td>\n",
       "      <td>10</td>\n",
       "      <td>0</td>\n",
       "      <td>0</td>\n",
       "      <td>0.39</td>\n",
       "    </tr>\n",
       "  </tbody>\n",
       "</table>\n",
       "<p>5 rows × 106 columns</p>\n",
       "</div>"
      ],
      "text/plain": [
       "     id                        listing_url     scrape_id last_scraped                                               name                                            summary                                              space                                        description experiences_offered                              neighborhood_overview  ... instant_bookable is_business_travel_ready          cancellation_policy require_guest_profile_picture require_guest_phone_verification  calculated_host_listings_count  calculated_host_listings_count_entire_homes calculated_host_listings_count_private_rooms  calculated_host_listings_count_shared_rooms  reviews_per_month\n",
       "0  3781  https://www.airbnb.com/rooms/3781  2.019030e+13      3/12/19                          HARBORSIDE-Walk to subway  Fully separate apartment in a two apartment bu...  This is a totally separate apartment located o...  Fully separate apartment in a two apartment bu...                none  Mostly quiet ( no loud music, no crowed sidewa...  ...                f                        f              super_strict_30                             f                                f                               1                                            1                                            0                                            0               0.34\n",
       "1  5506  https://www.airbnb.com/rooms/5506  2.019030e+13      3/12/19     **$79 Special **   Private! Minutes to center!  This is a private guest room with private bath...  **THE BEST Value in BOSTON!!*** PRIVATE GUEST ...  This is a private guest room with private bath...                none  Peacful, Architecturally interesting, historic...  ...                t                        f  strict_14_with_grace_period                             f                                f                               6                                            6                                            0                                            0               0.67\n",
       "2  6695  https://www.airbnb.com/rooms/6695  2.019030e+13      3/12/19                     $99 Special!! Home Away! Condo                                                NaN  ** WELCOME *** FULL PRIVATE APARTMENT In a His...  ** WELCOME *** FULL PRIVATE APARTMENT In a His...                none  Peaceful, Architecturally interesting, histori...  ...                t                        f  strict_14_with_grace_period                             f                                f                               6                                            6                                            0                                            0               0.73\n",
       "3  6976  https://www.airbnb.com/rooms/6976  2.019030e+13      3/12/19  Mexican Folk Art Haven in Boston Residential Area  Come stay with me in Boston's Roslindale neigh...  This is a well-maintained, two-family house bu...  Come stay with me in Boston's Roslindale neigh...                none  The LOCATION: Roslindale is a safe and diverse...  ...                f                        f                     moderate                             t                                f                               1                                            0                                            1                                            0               0.64\n",
       "4  8789  https://www.airbnb.com/rooms/8789  2.019030e+13      3/12/19                Curved Glass Studio/1bd facing Park  Bright, 1 bed with curved glass windows facing...  Fully Furnished studio with enclosed bedroom. ...  Bright, 1 bed with curved glass windows facing...                none  Beacon Hill is a historic neighborhood filled ...  ...                f                        f  strict_14_with_grace_period                             f                                f                              10                                           10                                            0                                            0               0.39\n",
       "\n",
       "[5 rows x 106 columns]"
      ]
     },
     "execution_count": 175,
     "metadata": {},
     "output_type": "execute_result"
    }
   ],
   "source": [
    "listings_details = pd.read_csv('listings_details.csv')\n",
    "listings_details.head()\n"
   ]
  },
  {
   "cell_type": "markdown",
   "metadata": {},
   "source": [
    "# 1. Data Preparation\n",
    "## 1.1 Data Cleaning"
   ]
  },
  {
   "cell_type": "code",
   "execution_count": 176,
   "metadata": {},
   "outputs": [
    {
     "name": "stdout",
     "output_type": "stream",
     "text": [
      "The dataset has 55501 rows and 106 columns.\n",
      "It contains 0 duplicates.\n"
     ]
    }
   ],
   "source": [
    "# check shape\n",
    "print(\"The dataset has {} rows and {} columns.\".format(*listings_details.shape))\n",
    "# Check duplicates\n",
    "print(\"It contains {} duplicates.\".format(listings_details.duplicated().sum()))"
   ]
  },
  {
   "cell_type": "code",
   "execution_count": 177,
   "metadata": {},
   "outputs": [],
   "source": [
    "most_columns = [\"id\",\"last_scraped\",\"description\",\"host_id\",\"host_since\",\"host_location\",\"host_response_time\", \"host_response_rate\",\n",
    "                 \"host_acceptance_rate\",\"host_is_superhost\",\"host_total_listings_count\",\"host_verifications\",\"host_has_profile_pic\",\n",
    "                 \"host_identity_verified\", \"neighbourhood_cleansed\", \"latitude\",\"longitude\",\"property_type\",\n",
    "                 \"room_type\",\"accommodates\",\"bathrooms\", \"bedrooms\",\"beds\",\"bed_type\",'amenities', \"square_feet\",\"price\",\n",
    "                 \"security_deposit\", \"cleaning_fee\",\"guests_included\",\"extra_people\",\"minimum_nights\",\"maximum_nights\",\n",
    "                 \"has_availability\",\"availability_30\",\"availability_60\",\"availability_90\", \"number_of_reviews\",\n",
    "                 \"number_of_reviews_ltm\",\"review_scores_rating\",\"review_scores_accuracy\",\"review_scores_cleanliness\",\n",
    "                 \"review_scores_checkin\",\"review_scores_communication\",\"review_scores_location\",\"review_scores_value\",\n",
    "                 \"requires_license\",\"instant_bookable\",\"is_business_travel_ready\",\"cancellation_policy\",\n",
    "                 \"require_guest_profile_picture\",\"require_guest_phone_verification\",\"reviews_per_month\",\"calculated_host_listings_count\",\n",
    "       \"calculated_host_listings_count_entire_homes\", \"calculated_host_listings_count_private_rooms\",\n",
    "       \"calculated_host_listings_count_shared_rooms\"\n",
    "       ]\n",
    "\n",
    "\n",
    "df = listings_details[most_columns].copy()\n"
   ]
  },
  {
   "cell_type": "code",
   "execution_count": 178,
   "metadata": {},
   "outputs": [],
   "source": [
    "# Check the empty values in inportant columns\n",
    "df[['price', 'cleaning_fee', 'security_deposit', 'extra_people']].isna().sum()\n",
    "\n",
    "# Fillin the empty values\n",
    "df.cleaning_fee.fillna('$0.00', inplace=True)\n",
    "df.security_deposit.fillna('$0.00', inplace=True)\n"
   ]
  },
  {
   "cell_type": "code",
   "execution_count": 179,
   "metadata": {},
   "outputs": [],
   "source": [
    "# Transform from string to number\n",
    "df.price = df.price.str.replace('$', '').str.replace(',', '').astype(float)\n",
    "df.cleaning_fee = df.cleaning_fee.str.replace('$', '').str.replace(',', '').astype(float)\n",
    "df.security_deposit = df.security_deposit.str.replace('$', '').str.replace(',', '').astype(float)\n",
    "df.extra_people = df.extra_people.str.replace('$', '').str.replace(',', '').astype(float)"
   ]
  },
  {
   "cell_type": "markdown",
   "metadata": {},
   "source": [
    "#### Fix the outliers of price column"
   ]
  },
  {
   "cell_type": "code",
   "execution_count": 180,
   "metadata": {},
   "outputs": [
    {
     "data": {
      "image/png": "[encoded data removed]",
      "text/plain": [
       "<Figure size 1152x144 with 1 Axes>"
      ]
     },
     "metadata": {
      "needs_background": "light"
     },
     "output_type": "display_data"
    }
   ],
   "source": [
    "red_square = dict(markerfacecolor='orange', markeredgecolor='orange', marker='.')\n",
    "df['price'].plot(kind='box', xlim=(0, 2000), vert=False, flierprops=red_square, figsize=(16,2));"
   ]
  },
  {
   "cell_type": "markdown",
   "metadata": {},
   "source": [
    "- Most the data fell into the interval of \\$0  to \\$1000, so we decide to consider all the price outside this interval as outliners."
   ]
  },
  {
   "cell_type": "code",
   "execution_count": 181,
   "metadata": {},
   "outputs": [],
   "source": [
    "# Delte the outliers\n",
    "df.drop(df[ (df.price > 1000) | (df.price == 0) ].index, axis=0, inplace=True)"
   ]
  },
  {
   "cell_type": "code",
   "execution_count": 182,
   "metadata": {},
   "outputs": [
    {
     "name": "stdout",
     "output_type": "stream",
     "text": [
      "id                                                  0\n",
      "last_scraped                                        0\n",
      "description                                       478\n",
      "host_id                                             0\n",
      "host_since                                          9\n",
      "host_location                                     118\n",
      "host_response_time                              12016\n",
      "host_response_rate                              12016\n",
      "host_acceptance_rate                            54940\n",
      "host_is_superhost                                   9\n",
      "host_total_listings_count                           9\n",
      "host_verifications                                  0\n",
      "host_has_profile_pic                                9\n",
      "host_identity_verified                              9\n",
      "neighbourhood_cleansed                              0\n",
      "latitude                                            0\n",
      "longitude                                           0\n",
      "property_type                                       0\n",
      "room_type                                           0\n",
      "accommodates                                        0\n",
      "bathrooms                                          42\n",
      "bedrooms                                           38\n",
      "beds                                               19\n",
      "bed_type                                            0\n",
      "amenities                                           0\n",
      "square_feet                                     53859\n",
      "price                                               0\n",
      "security_deposit                                    0\n",
      "cleaning_fee                                        0\n",
      "guests_included                                     0\n",
      "extra_people                                        0\n",
      "minimum_nights                                      0\n",
      "maximum_nights                                      0\n",
      "has_availability                                    0\n",
      "availability_30                                     0\n",
      "availability_60                                     0\n",
      "availability_90                                     0\n",
      "number_of_reviews                                   0\n",
      "number_of_reviews_ltm                               0\n",
      "review_scores_rating                            10844\n",
      "review_scores_accuracy                          10877\n",
      "review_scores_cleanliness                       10859\n",
      "review_scores_checkin                           10895\n",
      "review_scores_communication                     10850\n",
      "review_scores_location                          10896\n",
      "review_scores_value                             10896\n",
      "requires_license                                    0\n",
      "instant_bookable                                    0\n",
      "is_business_travel_ready                            0\n",
      "cancellation_policy                                 0\n",
      "require_guest_profile_picture                       0\n",
      "require_guest_phone_verification                    0\n",
      "reviews_per_month                               10348\n",
      "calculated_host_listings_count                      0\n",
      "calculated_host_listings_count_entire_homes         0\n",
      "calculated_host_listings_count_private_rooms        0\n",
      "calculated_host_listings_count_shared_rooms         0\n",
      "dtype: int64\n",
      "------After handling missing values-------\n",
      "id                                                  0\n",
      "last_scraped                                        0\n",
      "description                                       477\n",
      "host_id                                             0\n",
      "host_since                                          0\n",
      "host_location                                     109\n",
      "host_acceptance_rate                            54842\n",
      "host_is_superhost                                   0\n",
      "host_total_listings_count                           0\n",
      "host_verifications                                  0\n",
      "host_has_profile_pic                                0\n",
      "host_identity_verified                              0\n",
      "neighbourhood_cleansed                              0\n",
      "latitude                                            0\n",
      "longitude                                           0\n",
      "property_type                                       0\n",
      "room_type                                           0\n",
      "accommodates                                        0\n",
      "bathrooms                                           0\n",
      "bedrooms                                            0\n",
      "beds                                                0\n",
      "bed_type                                            0\n",
      "amenities                                           0\n",
      "price                                               0\n",
      "security_deposit                                    0\n",
      "cleaning_fee                                        0\n",
      "guests_included                                     0\n",
      "extra_people                                        0\n",
      "minimum_nights                                      0\n",
      "maximum_nights                                      0\n",
      "has_availability                                    0\n",
      "availability_30                                     0\n",
      "availability_60                                     0\n",
      "availability_90                                     0\n",
      "number_of_reviews                                   0\n",
      "number_of_reviews_ltm                               0\n",
      "review_scores_accuracy                          10856\n",
      "review_scores_cleanliness                       10838\n",
      "review_scores_checkin                           10874\n",
      "review_scores_communication                     10829\n",
      "review_scores_location                          10875\n",
      "review_scores_value                             10875\n",
      "requires_license                                    0\n",
      "instant_bookable                                    0\n",
      "is_business_travel_ready                            0\n",
      "cancellation_policy                                 0\n",
      "require_guest_profile_picture                       0\n",
      "require_guest_phone_verification                    0\n",
      "calculated_host_listings_count                      0\n",
      "calculated_host_listings_count_entire_homes         0\n",
      "calculated_host_listings_count_private_rooms        0\n",
      "calculated_host_listings_count_shared_rooms         0\n",
      "dtype: int64\n"
     ]
    }
   ],
   "source": [
    "print(df.isna().sum())\n",
    "df.drop(columns=['square_feet', 'host_response_time', 'host_response_rate', 'review_scores_rating', 'reviews_per_month'], inplace=True)\n",
    "df.dropna(subset=['host_total_listings_count', 'bathrooms', 'bedrooms', 'beds'], inplace=True)\n",
    "df.host_has_profile_pic.fillna(value='f', inplace=True)\n",
    "df.host_is_superhost.fillna(value='f', inplace=True)\n",
    "df.host_identity_verified.fillna(value='f', inplace=True)\n",
    "print('------After handling missing values-------')\n",
    "print(df.isna().sum())\n"
   ]
  },
  {
   "cell_type": "code",
   "execution_count": 183,
   "metadata": {},
   "outputs": [],
   "source": [
    "df['last_scraped'] = pd.to_datetime(df['last_scraped'])\n",
    "data1 = df.sort_values(by = ['id','last_scraped'], ascending = False)\n",
    "last_unique = data1.drop_duplicates(subset =\"id\", keep = 'first')\n",
    "\n",
    "df.loc[df['last_scraped']== \"7/15/19\",'last_scraped'] = \"7/14/19\"\n",
    "df.loc[df['last_scraped']== \"5/24/19\",'last_scraped'] = \"5/19/19\"\n",
    "df = df[df['last_scraped'] != \"10/11/19\"]"
   ]
  },
  {
   "cell_type": "markdown",
   "metadata": {},
   "source": [
    "## 1.2 Exploratory and descriptive analysis  "
   ]
  },
  {
   "cell_type": "code",
   "execution_count": 184,
   "metadata": {},
   "outputs": [
    {
     "data": {
      "text/html": [
       "<div>\n",
       "<style scoped>\n",
       "    .dataframe tbody tr th:only-of-type {\n",
       "        vertical-align: middle;\n",
       "    }\n",
       "\n",
       "    .dataframe tbody tr th {\n",
       "        vertical-align: top;\n",
       "    }\n",
       "\n",
       "    .dataframe thead th {\n",
       "        text-align: right;\n",
       "    }\n",
       "</style>\n",
       "<table border=\"1\" class=\"dataframe\">\n",
       "  <thead>\n",
       "    <tr style=\"text-align: right;\">\n",
       "      <th></th>\n",
       "      <th>id</th>\n",
       "      <th>host_id</th>\n",
       "      <th>host_acceptance_rate</th>\n",
       "      <th>host_total_listings_count</th>\n",
       "      <th>latitude</th>\n",
       "      <th>longitude</th>\n",
       "      <th>accommodates</th>\n",
       "      <th>bathrooms</th>\n",
       "      <th>bedrooms</th>\n",
       "      <th>beds</th>\n",
       "      <th>...</th>\n",
       "      <th>review_scores_accuracy</th>\n",
       "      <th>review_scores_cleanliness</th>\n",
       "      <th>review_scores_checkin</th>\n",
       "      <th>review_scores_communication</th>\n",
       "      <th>review_scores_location</th>\n",
       "      <th>review_scores_value</th>\n",
       "      <th>calculated_host_listings_count</th>\n",
       "      <th>calculated_host_listings_count_entire_homes</th>\n",
       "      <th>calculated_host_listings_count_private_rooms</th>\n",
       "      <th>calculated_host_listings_count_shared_rooms</th>\n",
       "    </tr>\n",
       "  </thead>\n",
       "  <tbody>\n",
       "    <tr>\n",
       "      <th>count</th>\n",
       "      <td>5.484200e+04</td>\n",
       "      <td>5.484200e+04</td>\n",
       "      <td>0.0</td>\n",
       "      <td>54842.000000</td>\n",
       "      <td>54842.000000</td>\n",
       "      <td>54842.000000</td>\n",
       "      <td>54842.000000</td>\n",
       "      <td>54842.000000</td>\n",
       "      <td>54842.000000</td>\n",
       "      <td>54842.000000</td>\n",
       "      <td>...</td>\n",
       "      <td>43986.000000</td>\n",
       "      <td>44004.000000</td>\n",
       "      <td>43968.000000</td>\n",
       "      <td>44013.000000</td>\n",
       "      <td>43967.000000</td>\n",
       "      <td>43967.000000</td>\n",
       "      <td>54842.000000</td>\n",
       "      <td>54842.000000</td>\n",
       "      <td>54842.000000</td>\n",
       "      <td>54842.000000</td>\n",
       "    </tr>\n",
       "    <tr>\n",
       "      <th>mean</th>\n",
       "      <td>2.001556e+07</td>\n",
       "      <td>6.494795e+07</td>\n",
       "      <td>NaN</td>\n",
       "      <td>138.634805</td>\n",
       "      <td>42.339150</td>\n",
       "      <td>-71.083180</td>\n",
       "      <td>3.357409</td>\n",
       "      <td>1.255297</td>\n",
       "      <td>1.325353</td>\n",
       "      <td>1.797801</td>\n",
       "      <td>...</td>\n",
       "      <td>9.587937</td>\n",
       "      <td>9.447937</td>\n",
       "      <td>9.731077</td>\n",
       "      <td>9.679572</td>\n",
       "      <td>9.565970</td>\n",
       "      <td>9.285396</td>\n",
       "      <td>33.836439</td>\n",
       "      <td>31.596769</td>\n",
       "      <td>2.127968</td>\n",
       "      <td>0.099796</td>\n",
       "    </tr>\n",
       "    <tr>\n",
       "      <th>std</th>\n",
       "      <td>9.569534e+06</td>\n",
       "      <td>7.110782e+07</td>\n",
       "      <td>NaN</td>\n",
       "      <td>330.707703</td>\n",
       "      <td>0.025929</td>\n",
       "      <td>0.032842</td>\n",
       "      <td>2.110017</td>\n",
       "      <td>0.497007</td>\n",
       "      <td>0.911621</td>\n",
       "      <td>1.266404</td>\n",
       "      <td>...</td>\n",
       "      <td>0.848195</td>\n",
       "      <td>0.914271</td>\n",
       "      <td>0.745511</td>\n",
       "      <td>0.805439</td>\n",
       "      <td>0.760563</td>\n",
       "      <td>0.917698</td>\n",
       "      <td>69.360874</td>\n",
       "      <td>69.871929</td>\n",
       "      <td>4.846488</td>\n",
       "      <td>1.113389</td>\n",
       "    </tr>\n",
       "    <tr>\n",
       "      <th>min</th>\n",
       "      <td>3.781000e+03</td>\n",
       "      <td>4.804000e+03</td>\n",
       "      <td>NaN</td>\n",
       "      <td>0.000000</td>\n",
       "      <td>42.235760</td>\n",
       "      <td>-71.178940</td>\n",
       "      <td>1.000000</td>\n",
       "      <td>0.000000</td>\n",
       "      <td>0.000000</td>\n",
       "      <td>0.000000</td>\n",
       "      <td>...</td>\n",
       "      <td>2.000000</td>\n",
       "      <td>2.000000</td>\n",
       "      <td>2.000000</td>\n",
       "      <td>2.000000</td>\n",
       "      <td>2.000000</td>\n",
       "      <td>2.000000</td>\n",
       "      <td>1.000000</td>\n",
       "      <td>0.000000</td>\n",
       "      <td>0.000000</td>\n",
       "      <td>0.000000</td>\n",
       "    </tr>\n",
       "    <tr>\n",
       "      <th>25%</th>\n",
       "      <td>1.333386e+07</td>\n",
       "      <td>1.216519e+07</td>\n",
       "      <td>NaN</td>\n",
       "      <td>1.000000</td>\n",
       "      <td>42.326420</td>\n",
       "      <td>-71.103830</td>\n",
       "      <td>2.000000</td>\n",
       "      <td>1.000000</td>\n",
       "      <td>1.000000</td>\n",
       "      <td>1.000000</td>\n",
       "      <td>...</td>\n",
       "      <td>9.000000</td>\n",
       "      <td>9.000000</td>\n",
       "      <td>10.000000</td>\n",
       "      <td>10.000000</td>\n",
       "      <td>9.000000</td>\n",
       "      <td>9.000000</td>\n",
       "      <td>1.000000</td>\n",
       "      <td>0.000000</td>\n",
       "      <td>0.000000</td>\n",
       "      <td>0.000000</td>\n",
       "    </tr>\n",
       "    <tr>\n",
       "      <th>50%</th>\n",
       "      <td>2.125356e+07</td>\n",
       "      <td>3.052595e+07</td>\n",
       "      <td>NaN</td>\n",
       "      <td>4.000000</td>\n",
       "      <td>42.345080</td>\n",
       "      <td>-71.075720</td>\n",
       "      <td>3.000000</td>\n",
       "      <td>1.000000</td>\n",
       "      <td>1.000000</td>\n",
       "      <td>1.000000</td>\n",
       "      <td>...</td>\n",
       "      <td>10.000000</td>\n",
       "      <td>10.000000</td>\n",
       "      <td>10.000000</td>\n",
       "      <td>10.000000</td>\n",
       "      <td>10.000000</td>\n",
       "      <td>9.000000</td>\n",
       "      <td>3.000000</td>\n",
       "      <td>1.000000</td>\n",
       "      <td>0.000000</td>\n",
       "      <td>0.000000</td>\n",
       "    </tr>\n",
       "    <tr>\n",
       "      <th>75%</th>\n",
       "      <td>2.792239e+07</td>\n",
       "      <td>9.696101e+07</td>\n",
       "      <td>NaN</td>\n",
       "      <td>33.000000</td>\n",
       "      <td>42.355330</td>\n",
       "      <td>-71.061203</td>\n",
       "      <td>4.000000</td>\n",
       "      <td>1.500000</td>\n",
       "      <td>2.000000</td>\n",
       "      <td>2.000000</td>\n",
       "      <td>...</td>\n",
       "      <td>10.000000</td>\n",
       "      <td>10.000000</td>\n",
       "      <td>10.000000</td>\n",
       "      <td>10.000000</td>\n",
       "      <td>10.000000</td>\n",
       "      <td>10.000000</td>\n",
       "      <td>25.000000</td>\n",
       "      <td>18.000000</td>\n",
       "      <td>2.000000</td>\n",
       "      <td>0.000000</td>\n",
       "    </tr>\n",
       "    <tr>\n",
       "      <th>max</th>\n",
       "      <td>3.879644e+07</td>\n",
       "      <td>2.963038e+08</td>\n",
       "      <td>NaN</td>\n",
       "      <td>1795.000000</td>\n",
       "      <td>42.398350</td>\n",
       "      <td>-70.969630</td>\n",
       "      <td>25.000000</td>\n",
       "      <td>6.000000</td>\n",
       "      <td>16.000000</td>\n",
       "      <td>24.000000</td>\n",
       "      <td>...</td>\n",
       "      <td>10.000000</td>\n",
       "      <td>10.000000</td>\n",
       "      <td>10.000000</td>\n",
       "      <td>10.000000</td>\n",
       "      <td>10.000000</td>\n",
       "      <td>10.000000</td>\n",
       "      <td>309.000000</td>\n",
       "      <td>309.000000</td>\n",
       "      <td>33.000000</td>\n",
       "      <td>25.000000</td>\n",
       "    </tr>\n",
       "  </tbody>\n",
       "</table>\n",
       "<p>8 rows × 32 columns</p>\n",
       "</div>"
      ],
      "text/plain": [
       "                 id       host_id  host_acceptance_rate  host_total_listings_count      latitude     longitude  accommodates     bathrooms      bedrooms          beds  ...  review_scores_accuracy  review_scores_cleanliness  review_scores_checkin  review_scores_communication  review_scores_location  review_scores_value  calculated_host_listings_count  calculated_host_listings_count_entire_homes  calculated_host_listings_count_private_rooms  calculated_host_listings_count_shared_rooms\n",
       "count  5.484200e+04  5.484200e+04                   0.0               54842.000000  54842.000000  54842.000000  54842.000000  54842.000000  54842.000000  54842.000000  ...            43986.000000               44004.000000           43968.000000                 44013.000000            43967.000000         43967.000000                    54842.000000                                 54842.000000                                  54842.000000                                 54842.000000\n",
       "mean   2.001556e+07  6.494795e+07                   NaN                 138.634805     42.339150    -71.083180      3.357409      1.255297      1.325353      1.797801  ...                9.587937                   9.447937               9.731077                     9.679572                9.565970             9.285396                       33.836439                                    31.596769                                      2.127968                                     0.099796\n",
       "std    9.569534e+06  7.110782e+07                   NaN                 330.707703      0.025929      0.032842      2.110017      0.497007      0.911621      1.266404  ...                0.848195                   0.914271               0.745511                     0.805439                0.760563             0.917698                       69.360874                                    69.871929                                      4.846488                                     1.113389\n",
       "min    3.781000e+03  4.804000e+03                   NaN                   0.000000     42.235760    -71.178940      1.000000      0.000000      0.000000      0.000000  ...                2.000000                   2.000000               2.000000                     2.000000                2.000000             2.000000                        1.000000                                     0.000000                                      0.000000                                     0.000000\n",
       "25%    1.333386e+07  1.216519e+07                   NaN                   1.000000     42.326420    -71.103830      2.000000      1.000000      1.000000      1.000000  ...                9.000000                   9.000000              10.000000                    10.000000                9.000000             9.000000                        1.000000                                     0.000000                                      0.000000                                     0.000000\n",
       "50%    2.125356e+07  3.052595e+07                   NaN                   4.000000     42.345080    -71.075720      3.000000      1.000000      1.000000      1.000000  ...               10.000000                  10.000000              10.000000                    10.000000               10.000000             9.000000                        3.000000                                     1.000000                                      0.000000                                     0.000000\n",
       "75%    2.792239e+07  9.696101e+07                   NaN                  33.000000     42.355330    -71.061203      4.000000      1.500000      2.000000      2.000000  ...               10.000000                  10.000000              10.000000                    10.000000               10.000000            10.000000                       25.000000                                    18.000000                                      2.000000                                     0.000000\n",
       "max    3.879644e+07  2.963038e+08                   NaN                1795.000000     42.398350    -70.969630     25.000000      6.000000     16.000000     24.000000  ...               10.000000                  10.000000              10.000000                    10.000000               10.000000            10.000000                      309.000000                                   309.000000                                     33.000000                                    25.000000\n",
       "\n",
       "[8 rows x 32 columns]"
      ]
     },
     "execution_count": 184,
     "metadata": {},
     "output_type": "execute_result"
    }
   ],
   "source": [
    "df.describe()"
   ]
  },
  {
   "cell_type": "markdown",
   "metadata": {},
   "source": [
    "### The descriptive statistic for some important variables\n",
    "![](descriptive statistic for some important variables.png)\n"
   ]
  },
  {
   "cell_type": "markdown",
   "metadata": {},
   "source": [
    "#### Price Plot"
   ]
  },
  {
   "cell_type": "code",
   "execution_count": 185,
   "metadata": {},
   "outputs": [
    {
     "data": {
      "text/plain": [
       "weekday\n",
       "Friday       230.243752\n",
       "Monday       219.299252\n",
       "Saturday     231.260390\n",
       "Sunday       220.286228\n",
       "Thursday     221.546503\n",
       "Tuesday      219.101784\n",
       "Wednesday    219.778612\n",
       "Name: price, dtype: float64"
      ]
     },
     "execution_count": 185,
     "metadata": {},
     "output_type": "execute_result"
    }
   ],
   "source": [
    "calendar_df = pd.read_csv('calendar.csv')\n",
    "calendar_df.date = pd.to_datetime(calendar_df.date)\n",
    "calendar_df['weekday']= [calendar.day_name[day.weekday()] for day in calendar_df.date]\n",
    "#calendar_df.boxplot(by = 'weekday', column=['price'], return_type='axes');\n",
    "calendar_df['price'] = calendar_df['price'].astype('str')\n",
    "calendar_df['price'] = [float(re.sub('[$, ]', '', i)) for i in calendar_df['price']]\n",
    "calendar_df.groupby(['weekday']).mean()['price']"
   ]
  },
  {
   "cell_type": "code",
   "execution_count": 186,
   "metadata": {},
   "outputs": [],
   "source": [
    "adp = calendar_df.groupby(['date']).mean()['price']\n",
    "adp_exp = adp.ewm(span=30, adjust=False).mean()\n",
    "adp_ma = adp.rolling(window=30).mean()"
   ]
  },
  {
   "cell_type": "code",
   "execution_count": 187,
   "metadata": {},
   "outputs": [
    {
     "data": {
      "image/png": "[encoded data removed]",
      "text/plain": [
       "<Figure size 432x288 with 1 Axes>"
      ]
     },
     "metadata": {
      "needs_background": "light"
     },
     "output_type": "display_data"
    }
   ],
   "source": [
    "import datetime\n",
    "\n",
    "plt.figure(1)\n",
    "plt.plot(adp.index, adp,label='origin')\n",
    "plt.plot(adp_ma.index, adp_ma, label='moving average (window=30)')\n",
    "plt.xticks(rotation=30)\n",
    "plt.xlim([datetime.datetime(2019,1,1), datetime.datetime(2020,9,1)])\n",
    "plt.legend()\n",
    "plt.show()"
   ]
  },
  {
   "cell_type": "code",
   "execution_count": 188,
   "metadata": {},
   "outputs": [
    {
     "data": {
      "image/png": "[encoded data removed]",
      "text/plain": [
       "<Figure size 432x288 with 1 Axes>"
      ]
     },
     "metadata": {
      "needs_background": "light"
     },
     "output_type": "display_data"
    }
   ],
   "source": [
    "plt.figure(1)\n",
    "sns.boxplot(y='price', x='weekday', data = calendar_df, width=0.5,palette=\"deep\")\n",
    "plt.ylim(0,600)\n",
    "plt.show()"
   ]
  },
  {
   "cell_type": "markdown",
   "metadata": {},
   "source": [
    "#### Count Airbnb houses in diferent neighborhoods"
   ]
  },
  {
   "cell_type": "code",
   "execution_count": 189,
   "metadata": {},
   "outputs": [
    {
     "data": {
      "image/png": "[encoded data removed]",
      "text/plain": [
       "<Figure size 432x288 with 1 Axes>"
      ]
     },
     "metadata": {
      "needs_background": "light"
     },
     "output_type": "display_data"
    }
   ],
   "source": [
    "def barplot_count(x):\n",
    "    '''\n",
    "    bar plot for raw data x, y -- count\n",
    "    '''\n",
    "    plt.figure(np.random.randint(1))\n",
    "    c = Counter(x)\n",
    "    c1 = dict([[v,k] for k,v in c.items()])\n",
    "    c = dict([[c1[v], v] for v in sorted(c.values(), reverse=True)])\n",
    "    index = np.arange(len(c))\n",
    "    bar_width = 0.65\n",
    "    plt.bar(index, c.values(), bar_width)\n",
    "    plt.xticks(index, c.keys(), fontsize = 8, rotation=90)\n",
    "    plt.show()\n",
    "    \n",
    "barplot_count(df['neighbourhood_cleansed'])   \n"
   ]
  },
  {
   "cell_type": "markdown",
   "metadata": {},
   "source": []
  },
  {
   "cell_type": "markdown",
   "metadata": {},
   "source": [
    "### The neighborhoods distribution in geographic districts.\n",
    "![](Bostonmap.png)\n",
    "\n",
    "We can see that inner harbor area has higher price (Back Bay, West End, Downtown, Chinatown, South Boston). It’s central business area and has a lot of places of interest. It’s popular with tourists and businesspeople. Generally, the far the neighbourhood is from downtown area, the cheaper the daily price would be."
   ]
  },
  {
   "cell_type": "markdown",
   "metadata": {},
   "source": [
    "### The Occupancy rate in different geographic districts.\n",
    "\n",
    "![](Occupancy rate.png)\n",
    "\n",
    "We can see that North End and East Boston has highest occupancy rate. The reason might be they have relatively low price while not far from the downtown area. Fenway, South Boston Waterfront, West End, Mission hill have low occupancy rate. "
   ]
  },
  {
   "cell_type": "markdown",
   "metadata": {},
   "source": [
    "#### Plot the numbers of different rooms"
   ]
  },
  {
   "cell_type": "code",
   "execution_count": 190,
   "metadata": {},
   "outputs": [
    {
     "data": {
      "image/png": "[encoded data removed]",
      "text/plain": [
       "<Figure size 432x288 with 1 Axes>"
      ]
     },
     "metadata": {},
     "output_type": "display_data"
    }
   ],
   "source": [
    "plt.figure(1)\n",
    "tempD = Counter(last_unique['room_type'])\n",
    "values = list(tempD.values())\n",
    "labels = list(tempD.keys())\n",
    "colors = ['#fd5c63', 'orange', 'lightyellow', 'lightblue']\n",
    "plt.pie(values, explode = (.1, 0, 0, 0), \n",
    "autopct='%1.1f%%', shadow = True, startangle=140, pctdistance = 0.5,\n",
    "        textprops=dict(color=\"black\", size = 'large'))\n",
    "plt.legend(labels, title=\"Room Type\", loc=\"center left\", bbox_to_anchor=(1, 0, 0.5, 1))\n",
    "plt.axis('equal')\n",
    "plt.show()"
   ]
  },
  {
   "cell_type": "markdown",
   "metadata": {},
   "source": [
    "#### Averge prices in months"
   ]
  },
  {
   "cell_type": "code",
   "execution_count": 191,
   "metadata": {},
   "outputs": [
    {
     "data": {
      "image/png": "[encoded data removed]",
      "text/plain": [
       "<Figure size 432x288 with 1 Axes>"
      ]
     },
     "metadata": {
      "needs_background": "light"
     },
     "output_type": "display_data"
    },
    {
     "data": {
      "text/plain": [
       "last_scraped\n",
       "2019-01-17    171.285203\n",
       "2019-02-09    174.465808\n",
       "2019-03-12    178.700212\n",
       "2019-04-15    183.467821\n",
       "2019-05-19    181.985895\n",
       "2019-05-24    298.000000\n",
       "2019-06-14    183.105621\n",
       "2019-07-14    179.825820\n",
       "2019-08-19    182.601783\n",
       "2019-09-22    175.474176\n",
       "2019-10-11     50.000000\n",
       "Name: price, dtype: float64"
      ]
     },
     "execution_count": 191,
     "metadata": {},
     "output_type": "execute_result"
    }
   ],
   "source": [
    "df['last_scraped'] = pd.to_datetime(df['last_scraped'])\n",
    "\n",
    "price_by_month = df.groupby(['last_scraped']).mean()['price']\n",
    "plt.figure(3)\n",
    "plt.plot(price_by_month.index, price_by_month)\n",
    "plt.xticks(rotation=60)\n",
    "plt.show()\n",
    "price_by_month"
   ]
  },
  {
   "cell_type": "markdown",
   "metadata": {},
   "source": [
    "## 1.3  Data transformation"
   ]
  },
  {
   "cell_type": "markdown",
   "metadata": {},
   "source": [
    "### 1.2.1 Extract the size information from description column \n",
    "One of the most important pieces of information for predicting the price is the size. Since the column square_feet was heavily filled with null values, we dropped it in the previous section. So we use the new size column to replace the square_feet column."
   ]
  },
  {
   "cell_type": "code",
   "execution_count": 192,
   "metadata": {},
   "outputs": [
    {
     "name": "stdout",
     "output_type": "stream",
     "text": [
      "Missing values in size_column absolute:      40968\n",
      "Missing values in size_column in percentage: 74.702 %\n"
     ]
    }
   ],
   "source": [
    "# extract numbers \n",
    "df['size'] = df['description'].str.extract('([\\s]\\d{2,3}\\s?[smSM])', expand=True)\n",
    "df['size'] = df['size'].str.replace(\"\\D\", \"\")\n",
    "\n",
    "# change datatype of size into float\n",
    "df['size'] = df['size'].astype(float)\n",
    "\n",
    "# delete the column of description\n",
    "df.drop(['description'], axis=1, inplace=True)\n",
    "print('Missing values in size_column absolute:     ', df['size'].isna().sum())\n",
    "print('Missing values in size_column in percentage:', round(df['size'].isna().sum()/len(df)*100,3), '%')"
   ]
  },
  {
   "cell_type": "markdown",
   "metadata": {},
   "source": [
    "74% of the values in the new size column is null, then we will use the prediction based on other variables to fill the null values"
   ]
  },
  {
   "cell_type": "code",
   "execution_count": 193,
   "metadata": {},
   "outputs": [],
   "source": [
    "# filter out sub_df to work with\n",
    "sub_df = df[['accommodates', 'bathrooms', 'bedrooms',  'price', 'cleaning_fee', \n",
    "                 'security_deposit', 'extra_people', 'guests_included', 'size']]\n",
    "# split datasets\n",
    "train_data = sub_df[sub_df['size'].notnull()]\n",
    "test_data  = sub_df[sub_df['size'].isnull()]\n",
    "\n",
    "# define X\n",
    "X_train = train_data.drop('size', axis=1)\n",
    "X_test  = test_data.drop('size', axis=1)\n",
    "\n",
    "# define y\n",
    "y_train = train_data['size']"
   ]
  },
  {
   "cell_type": "code",
   "execution_count": 194,
   "metadata": {},
   "outputs": [
    {
     "data": {
      "text/html": [
       "<div>\n",
       "<style scoped>\n",
       "    .dataframe tbody tr th:only-of-type {\n",
       "        vertical-align: middle;\n",
       "    }\n",
       "\n",
       "    .dataframe tbody tr th {\n",
       "        vertical-align: top;\n",
       "    }\n",
       "\n",
       "    .dataframe thead th {\n",
       "        text-align: right;\n",
       "    }\n",
       "</style>\n",
       "<table border=\"1\" class=\"dataframe\">\n",
       "  <thead>\n",
       "    <tr style=\"text-align: right;\">\n",
       "      <th></th>\n",
       "      <th>accommodates</th>\n",
       "      <th>bathrooms</th>\n",
       "      <th>bedrooms</th>\n",
       "      <th>price</th>\n",
       "      <th>cleaning_fee</th>\n",
       "      <th>security_deposit</th>\n",
       "      <th>extra_people</th>\n",
       "      <th>guests_included</th>\n",
       "      <th>size</th>\n",
       "    </tr>\n",
       "  </thead>\n",
       "  <tbody>\n",
       "    <tr>\n",
       "      <th>1</th>\n",
       "      <td>2</td>\n",
       "      <td>1.0</td>\n",
       "      <td>1.0</td>\n",
       "      <td>145.0</td>\n",
       "      <td>40.0</td>\n",
       "      <td>0.0</td>\n",
       "      <td>0.0</td>\n",
       "      <td>1</td>\n",
       "      <td>71.214993</td>\n",
       "    </tr>\n",
       "    <tr>\n",
       "      <th>2</th>\n",
       "      <td>4</td>\n",
       "      <td>1.0</td>\n",
       "      <td>1.0</td>\n",
       "      <td>169.0</td>\n",
       "      <td>70.0</td>\n",
       "      <td>0.0</td>\n",
       "      <td>8.0</td>\n",
       "      <td>2</td>\n",
       "      <td>112.055163</td>\n",
       "    </tr>\n",
       "    <tr>\n",
       "      <th>3</th>\n",
       "      <td>2</td>\n",
       "      <td>1.0</td>\n",
       "      <td>1.0</td>\n",
       "      <td>65.0</td>\n",
       "      <td>0.0</td>\n",
       "      <td>0.0</td>\n",
       "      <td>30.0</td>\n",
       "      <td>1</td>\n",
       "      <td>48.868078</td>\n",
       "    </tr>\n",
       "    <tr>\n",
       "      <th>4</th>\n",
       "      <td>2</td>\n",
       "      <td>1.0</td>\n",
       "      <td>1.0</td>\n",
       "      <td>99.0</td>\n",
       "      <td>250.0</td>\n",
       "      <td>1000.0</td>\n",
       "      <td>0.0</td>\n",
       "      <td>1</td>\n",
       "      <td>241.100706</td>\n",
       "    </tr>\n",
       "    <tr>\n",
       "      <th>5</th>\n",
       "      <td>2</td>\n",
       "      <td>1.0</td>\n",
       "      <td>1.0</td>\n",
       "      <td>154.0</td>\n",
       "      <td>250.0</td>\n",
       "      <td>1000.0</td>\n",
       "      <td>0.0</td>\n",
       "      <td>1</td>\n",
       "      <td>245.242207</td>\n",
       "    </tr>\n",
       "  </tbody>\n",
       "</table>\n",
       "</div>"
      ],
      "text/plain": [
       "   accommodates  bathrooms  bedrooms  price  cleaning_fee  security_deposit  extra_people  guests_included        size\n",
       "1             2        1.0       1.0  145.0          40.0               0.0           0.0                1   71.214993\n",
       "2             4        1.0       1.0  169.0          70.0               0.0           8.0                2  112.055163\n",
       "3             2        1.0       1.0   65.0           0.0               0.0          30.0                1   48.868078\n",
       "4             2        1.0       1.0   99.0         250.0            1000.0           0.0                1  241.100706\n",
       "5             2        1.0       1.0  154.0         250.0            1000.0           0.0                1  245.242207"
      ]
     },
     "execution_count": 194,
     "metadata": {},
     "output_type": "execute_result"
    }
   ],
   "source": [
    "# instantiate\n",
    "linreg = LinearRegression()\n",
    "\n",
    "# fit model to training data\n",
    "linreg.fit(X_train, y_train)\n",
    "\n",
    "# predict\n",
    "y_test = linreg.predict(X_test)\n",
    "\n",
    "# merge back\n",
    "X_test['size'] = y_test\n",
    "sub_df_new = pd.concat([X_test, train_data], axis=0)\n",
    "\n",
    "sub_df_new.head()"
   ]
  },
  {
   "cell_type": "code",
   "execution_count": 195,
   "metadata": {},
   "outputs": [],
   "source": [
    "df.drop(['accommodates', 'bathrooms', 'bedrooms', 'price', 'cleaning_fee', \n",
    "             'security_deposit', 'extra_people', 'guests_included', 'size'], \n",
    "            axis=1, inplace=True)\n",
    "\n",
    "df = pd.concat([sub_df_new, df], axis=1)"
   ]
  },
  {
   "cell_type": "code",
   "execution_count": 196,
   "metadata": {},
   "outputs": [
    {
     "data": {
      "image/png": "[encoded data removed]",
      "text/plain": [
       "<Figure size 1152x144 with 1 Axes>"
      ]
     },
     "metadata": {
      "needs_background": "light"
     },
     "output_type": "display_data"
    }
   ],
   "source": [
    "red_square = dict(markerfacecolor='orange', markeredgecolor='orange', marker='.')\n",
    "df['size'].plot(kind='box', xlim=(0, 500), vert=False, flierprops=red_square, figsize=(16,2));\n",
    "# Drop size outliner\n",
    "df.drop(df[ (df['size'] <= 0.) | (df['size'] > 400.) ].index, axis=0, inplace=True)"
   ]
  },
  {
   "cell_type": "code",
   "execution_count": 197,
   "metadata": {},
   "outputs": [],
   "source": [
    "# Drop size outliner\n",
    "df.drop(df[ (df['size'] <= 0.) | (df['size'] > 400.) ].index, axis=0, inplace=True)"
   ]
  },
  {
   "cell_type": "markdown",
   "metadata": {},
   "source": [
    "### 1.2.2. Extract information from  Amenities strings\n",
    "What the hosts offer the guests usually take up a huge part of the price. But the variable of amenities comes as a dictionary of string. We have to think of a way to extract the determining information from them. "
   ]
  },
  {
   "cell_type": "code",
   "execution_count": 198,
   "metadata": {},
   "outputs": [
    {
     "data": {
      "text/plain": [
       "[('Wifi', 51224),\n",
       " ('Heating', 50702),\n",
       " ('Smoke detector', 50122),\n",
       " ('Essentials', 50031),\n",
       " ('Kitchen', 47877),\n",
       " ('Carbon monoxide detector', 45946),\n",
       " ('Hangers', 45164),\n",
       " ('Air conditioning', 43309),\n",
       " ('Shampoo', 43221),\n",
       " ('Hair dryer', 42205),\n",
       " ('Iron', 41327),\n",
       " ('TV', 40769),\n",
       " ('Laptop friendly workspace', 39552),\n",
       " ('Washer', 36960),\n",
       " ('Dryer', 36749),\n",
       " ('Hot water', 33037),\n",
       " ('Fire extinguisher', 28637),\n",
       " ('Refrigerator', 25941),\n",
       " ('Self check-in', 24996),\n",
       " ('Microwave', 24689),\n",
       " ('Bed linens', 24261),\n",
       " ('Stove', 22860),\n",
       " ('Oven', 22456),\n",
       " ('Dishes and silverware', 22385),\n",
       " ('Coffee maker', 22208),\n",
       " ('Cable TV', 20976),\n",
       " ('Long term stays allowed', 20484),\n",
       " ('Cooking basics', 19261),\n",
       " ('Family/kid friendly', 19131),\n",
       " ('First aid kit', 18068)]"
      ]
     },
     "execution_count": 198,
     "metadata": {},
     "output_type": "execute_result"
    }
   ],
   "source": [
    "results = Counter()\n",
    "df['amenities'].str.strip('{}')\\\n",
    "               .str.replace('\"', '')\\\n",
    "               .str.lstrip('\\\"')\\\n",
    "               .str.rstrip('\\\"')\\\n",
    "               .str.split(',')\\\n",
    "               .apply(results.update)\n",
    "results.most_common(30)"
   ]
  },
  {
   "cell_type": "code",
   "execution_count": 199,
   "metadata": {},
   "outputs": [],
   "source": [
    "# There are some amenities that are not offered by around half of the host and they might have a influence on price that can be observed \n",
    "df['TV'] = df['amenities'].str.contains('TV')\n",
    "df['Laptop_friendly_workspace'] = df['amenities'].str.contains('Laptop friendly workspace')\n",
    "df['Washer'] = df['amenities'].str.contains('Washer')\n",
    "df['Dryer'] = df['amenities'].str.contains('Dryer')\n",
    "df['Hot_water'] = df['amenities'].str.contains('Hot water')\n",
    "df.drop(['amenities'], axis=1, inplace=True)"
   ]
  },
  {
   "cell_type": "markdown",
   "metadata": {},
   "source": [
    "### 1.2.3. Use the distance to the Boston center instaed of latitude and longitude\n",
    "The center point of Bosotn is (42.347345, -71.082503) and this distrct is almost the most expensive place in Boston. The closer the houses get to this place, the higherthe prices will be."
   ]
  },
  {
   "cell_type": "code",
   "execution_count": 200,
   "metadata": {},
   "outputs": [],
   "source": [
    "def distance_to_prudential(lat, lon):\n",
    "    prudential_center = (42.347345, -71.082503)\n",
    "    accommodation = (lat, lon)\n",
    "    return great_circle(prudential_center, accommodation).km\n",
    "\n",
    "df['distance'] = df.apply(lambda x: distance_to_prudential(x.latitude, x.longitude), axis=1)"
   ]
  },
  {
   "cell_type": "code",
   "execution_count": 201,
   "metadata": {},
   "outputs": [],
   "source": [
    "df.drop(['latitude', 'longitude'], axis=1, inplace=True)"
   ]
  },
  {
   "cell_type": "markdown",
   "metadata": {},
   "source": [
    "### 1.2.4 One hot coding\n",
    "- Only keep important variables based on variables importance\n",
    "- convert each category value into a new column and assigns a 1 or 0 (True/False) value to the column."
   ]
  },
  {
   "cell_type": "code",
   "execution_count": 203,
   "metadata": {},
   "outputs": [],
   "source": [
    "deleted_columns = [\"id\",\"last_scraped\",\"host_id\",\"host_since\",\"host_location\",\"host_acceptance_rate\",\"host_verifications\",\n",
    "                   \"neighbourhood_cleansed\",\"maximum_nights\",\"has_availability\",\"availability_30\",\"availability_60\",\n",
    "                   \"availability_90\", \"number_of_reviews\",\"number_of_reviews_ltm\",\"review_scores_accuracy\",\"review_scores_cleanliness\",\n",
    "                 \"review_scores_checkin\",\"review_scores_communication\",\"review_scores_location\",\"review_scores_value\",\n",
    "                 \"requires_license\",\"is_business_travel_ready\",\"require_guest_profile_picture\",\"require_guest_phone_verification\",\n",
    "                  \"calculated_host_listings_count\",\"calculated_host_listings_count_entire_homes\", \n",
    "                   \"calculated_host_listings_count_private_rooms\",\"calculated_host_listings_count_shared_rooms\"]\n",
    "df2 = df.drop(deleted_columns, axis = 1).copy()"
   ]
  },
  {
   "cell_type": "code",
   "execution_count": 204,
   "metadata": {},
   "outputs": [],
   "source": [
    "# One hot encoding for categorical variables\n",
    "for column in df2.columns:\n",
    "    if df2[column].dtype == type(object):\n",
    "        dummy = pd.get_dummies(df2[column], drop_first = True)\n",
    "        dummy.columns = [column+'_'+x for x in dummy]\n",
    "        df2 = df2.join(dummy)\n",
    "        df2 = df2.drop(columns=[column])"
   ]
  },
  {
   "cell_type": "markdown",
   "metadata": {},
   "source": [
    "# 2. Prices Modeling\n",
    "## 2.1 Data Splitting\n",
    "- plitting the data into 80% training data and 20% test data "
   ]
  },
  {
   "cell_type": "code",
   "execution_count": 205,
   "metadata": {},
   "outputs": [],
   "source": [
    "predictors = df2.copy()\n",
    "predictors.drop(columns = 'price', inplace = True)\n",
    "target = df[[\"price\"]]"
   ]
  },
  {
   "cell_type": "code",
   "execution_count": 206,
   "metadata": {},
   "outputs": [],
   "source": [
    "# Split data set into training and test\n",
    "predictors = predictors.values\n",
    "target = target.values\n",
    "X_train,X_test,y_train,y_test = train_test_split(predictors,target,test_size=0.2,random_state=0)\n",
    "sc = preprocessing.MinMaxScaler()\n",
    "X_train = sc.fit_transform(X_train)\n",
    "X_test  = sc.transform(X_test)"
   ]
  },
  {
   "cell_type": "markdown",
   "metadata": {},
   "source": [
    "## 2.2 Regressions (Linear, Ridge, and Lasso)\n",
    "We will use Linear, Ridge, and Lasso, three regressions methods and then box plot to check the regressions models"
   ]
  },
  {
   "cell_type": "code",
   "execution_count": 243,
   "metadata": {},
   "outputs": [],
   "source": [
    "models = []\n",
    "models.append(('Linear', LinearRegression()))\n",
    "models.append(('Lasso', Lasso()))\n",
    "models.append(('Ridge', Ridge()))\n",
    "# evaluate each model in turn\n",
    "scores = []\n",
    "names = []\n",
    "scoring = 'neg_mean_squared_error'\n",
    "for name, model in models:\n",
    "    cv_results = -cross_val_score(model, X_train, y_train, cv=10, scoring=scoring)\n",
    "    scores.append(np.sqrt(cv_results))\n",
    "    names.append(name)    \n",
    "scores[0] = [i for i in scores[0] if i < 20000]"
   ]
  },
  {
   "cell_type": "code",
   "execution_count": 246,
   "metadata": {},
   "outputs": [
    {
     "data": {
      "image/png": "[encoded data removed]",
      "text/plain": [
       "<Figure size 864x432 with 1 Axes>"
      ]
     },
     "metadata": {
      "needs_background": "light"
     },
     "output_type": "display_data"
    }
   ],
   "source": [
    "# boxplot algorithm comparison\n",
    "fig = plt.figure(figsize=(12,6))\n",
    "fig.suptitle(\"Models Comparison\")\n",
    "ax = fig.add_subplot(111)\n",
    "plt.boxplot(scores)\n",
    "ax.set_xticklabels(names)\n",
    "ax.set_ylabel('Square Root of Mean Squared Error')\n",
    "plt.show()"
   ]
  },
  {
   "cell_type": "code",
   "execution_count": 214,
   "metadata": {},
   "outputs": [
    {
     "data": {
      "text/html": [
       "<table class=\"simpletable\">\n",
       "<caption>OLS Regression Results</caption>\n",
       "<tr>\n",
       "  <th>Dep. Variable:</th>            <td>y</td>        <th>  R-squared:         </th>  <td>   0.510</td>  \n",
       "</tr>\n",
       "<tr>\n",
       "  <th>Model:</th>                   <td>OLS</td>       <th>  Adj. R-squared:    </th>  <td>   0.509</td>  \n",
       "</tr>\n",
       "<tr>\n",
       "  <th>Method:</th>             <td>Least Squares</td>  <th>  F-statistic:       </th>  <td>   740.2</td>  \n",
       "</tr>\n",
       "<tr>\n",
       "  <th>Date:</th>             <td>Thu, 22 Apr 2021</td> <th>  Prob (F-statistic):</th>   <td>  0.00</td>   \n",
       "</tr>\n",
       "<tr>\n",
       "  <th>Time:</th>                 <td>23:48:20</td>     <th>  Log-Likelihood:    </th> <td>-2.5395e+05</td>\n",
       "</tr>\n",
       "<tr>\n",
       "  <th>No. Observations:</th>      <td> 42041</td>      <th>  AIC:               </th>  <td>5.080e+05</td> \n",
       "</tr>\n",
       "<tr>\n",
       "  <th>Df Residuals:</th>          <td> 41981</td>      <th>  BIC:               </th>  <td>5.085e+05</td> \n",
       "</tr>\n",
       "<tr>\n",
       "  <th>Df Model:</th>              <td>    59</td>      <th>                     </th>      <td> </td>     \n",
       "</tr>\n",
       "<tr>\n",
       "  <th>Covariance Type:</th>      <td>nonrobust</td>    <th>                     </th>      <td> </td>     \n",
       "</tr>\n",
       "</table>\n",
       "<table class=\"simpletable\">\n",
       "<tr>\n",
       "    <td></td>       <th>coef</th>     <th>std err</th>      <th>t</th>      <th>P>|t|</th>  <th>[0.025</th>    <th>0.975]</th>  \n",
       "</tr>\n",
       "<tr>\n",
       "  <th>const</th> <td>  223.6545</td> <td>  102.944</td> <td>    2.173</td> <td> 0.030</td> <td>   21.883</td> <td>  425.426</td>\n",
       "</tr>\n",
       "<tr>\n",
       "  <th>x1</th>    <td>  273.2905</td> <td>   14.092</td> <td>   19.393</td> <td> 0.000</td> <td>  245.669</td> <td>  300.912</td>\n",
       "</tr>\n",
       "<tr>\n",
       "  <th>x2</th>    <td>  296.5085</td> <td>    7.998</td> <td>   37.073</td> <td> 0.000</td> <td>  280.832</td> <td>  312.185</td>\n",
       "</tr>\n",
       "<tr>\n",
       "  <th>x3</th>    <td>  472.2054</td> <td>   13.890</td> <td>   33.995</td> <td> 0.000</td> <td>  444.980</td> <td>  499.431</td>\n",
       "</tr>\n",
       "<tr>\n",
       "  <th>x4</th>    <td>  -41.8946</td> <td>    8.268</td> <td>   -5.067</td> <td> 0.000</td> <td>  -58.101</td> <td>  -25.689</td>\n",
       "</tr>\n",
       "<tr>\n",
       "  <th>x5</th>    <td>  -36.6244</td> <td>    9.173</td> <td>   -3.993</td> <td> 0.000</td> <td>  -54.603</td> <td>  -18.646</td>\n",
       "</tr>\n",
       "<tr>\n",
       "  <th>x6</th>    <td>   -9.5923</td> <td>    8.113</td> <td>   -1.182</td> <td> 0.237</td> <td>  -25.493</td> <td>    6.309</td>\n",
       "</tr>\n",
       "<tr>\n",
       "  <th>x7</th>    <td>   -0.6878</td> <td>    7.279</td> <td>   -0.094</td> <td> 0.925</td> <td>  -14.954</td> <td>   13.579</td>\n",
       "</tr>\n",
       "<tr>\n",
       "  <th>x8</th>    <td>  195.9176</td> <td>    5.082</td> <td>   38.550</td> <td> 0.000</td> <td>  185.957</td> <td>  205.879</td>\n",
       "</tr>\n",
       "<tr>\n",
       "  <th>x9</th>    <td>  199.2517</td> <td>    3.481</td> <td>   57.239</td> <td> 0.000</td> <td>  192.429</td> <td>  206.075</td>\n",
       "</tr>\n",
       "<tr>\n",
       "  <th>x10</th>   <td>  -14.0367</td> <td>   19.403</td> <td>   -0.723</td> <td> 0.469</td> <td>  -52.067</td> <td>   23.993</td>\n",
       "</tr>\n",
       "<tr>\n",
       "  <th>x11</th>   <td> -256.3623</td> <td>   24.803</td> <td>  -10.336</td> <td> 0.000</td> <td> -304.978</td> <td> -207.747</td>\n",
       "</tr>\n",
       "<tr>\n",
       "  <th>x12</th>   <td>   18.6126</td> <td>    1.382</td> <td>   13.472</td> <td> 0.000</td> <td>   15.905</td> <td>   21.320</td>\n",
       "</tr>\n",
       "<tr>\n",
       "  <th>x13</th>   <td>   -3.5999</td> <td>    1.244</td> <td>   -2.894</td> <td> 0.004</td> <td>   -6.038</td> <td>   -1.162</td>\n",
       "</tr>\n",
       "<tr>\n",
       "  <th>x14</th>   <td>    3.3457</td> <td>    4.765</td> <td>    0.702</td> <td> 0.483</td> <td>   -5.995</td> <td>   12.686</td>\n",
       "</tr>\n",
       "<tr>\n",
       "  <th>x15</th>   <td>    1.0584</td> <td>    4.743</td> <td>    0.223</td> <td> 0.823</td> <td>   -8.238</td> <td>   10.355</td>\n",
       "</tr>\n",
       "<tr>\n",
       "  <th>x16</th>   <td>  -23.7315</td> <td>    1.186</td> <td>  -20.016</td> <td> 0.000</td> <td>  -26.055</td> <td>  -21.408</td>\n",
       "</tr>\n",
       "<tr>\n",
       "  <th>x17</th>   <td> -143.0244</td> <td>    3.455</td> <td>  -41.394</td> <td> 0.000</td> <td> -149.797</td> <td> -136.252</td>\n",
       "</tr>\n",
       "<tr>\n",
       "  <th>x18</th>   <td>    7.0743</td> <td>    1.297</td> <td>    5.456</td> <td> 0.000</td> <td>    4.533</td> <td>    9.616</td>\n",
       "</tr>\n",
       "<tr>\n",
       "  <th>x19</th>   <td>   -4.7176</td> <td>   12.959</td> <td>   -0.364</td> <td> 0.716</td> <td>  -30.118</td> <td>   20.683</td>\n",
       "</tr>\n",
       "<tr>\n",
       "  <th>x20</th>   <td>    3.7061</td> <td>    1.074</td> <td>    3.450</td> <td> 0.001</td> <td>    1.601</td> <td>    5.812</td>\n",
       "</tr>\n",
       "<tr>\n",
       "  <th>x21</th>   <td> -129.3525</td> <td>  101.756</td> <td>   -1.271</td> <td> 0.204</td> <td> -328.796</td> <td>   70.091</td>\n",
       "</tr>\n",
       "<tr>\n",
       "  <th>x22</th>   <td>  -27.3570</td> <td>  107.281</td> <td>   -0.255</td> <td> 0.799</td> <td> -237.631</td> <td>  182.917</td>\n",
       "</tr>\n",
       "<tr>\n",
       "  <th>x23</th>   <td>  -72.7098</td> <td>  101.904</td> <td>   -0.714</td> <td> 0.476</td> <td> -272.444</td> <td>  127.025</td>\n",
       "</tr>\n",
       "<tr>\n",
       "  <th>x24</th>   <td>  -66.4774</td> <td>  102.728</td> <td>   -0.647</td> <td> 0.518</td> <td> -267.826</td> <td>  134.871</td>\n",
       "</tr>\n",
       "<tr>\n",
       "  <th>x25</th>   <td>  -67.9676</td> <td>  102.262</td> <td>   -0.665</td> <td> 0.506</td> <td> -268.404</td> <td>  132.469</td>\n",
       "</tr>\n",
       "<tr>\n",
       "  <th>x26</th>   <td>  -45.2684</td> <td>  103.508</td> <td>   -0.437</td> <td> 0.662</td> <td> -248.146</td> <td>  157.609</td>\n",
       "</tr>\n",
       "<tr>\n",
       "  <th>x27</th>   <td>  -90.6200</td> <td>  113.784</td> <td>   -0.796</td> <td> 0.426</td> <td> -313.640</td> <td>  132.400</td>\n",
       "</tr>\n",
       "<tr>\n",
       "  <th>x28</th>   <td> -182.5406</td> <td>  143.974</td> <td>   -1.268</td> <td> 0.205</td> <td> -464.732</td> <td>   99.651</td>\n",
       "</tr>\n",
       "<tr>\n",
       "  <th>x29</th>   <td> -117.6698</td> <td>  101.767</td> <td>   -1.156</td> <td> 0.248</td> <td> -317.135</td> <td>   81.795</td>\n",
       "</tr>\n",
       "<tr>\n",
       "  <th>x30</th>   <td> -171.9306</td> <td>  108.803</td> <td>   -1.580</td> <td> 0.114</td> <td> -385.187</td> <td>   41.326</td>\n",
       "</tr>\n",
       "<tr>\n",
       "  <th>x31</th>   <td>  -17.1674</td> <td>  143.993</td> <td>   -0.119</td> <td> 0.905</td> <td> -299.396</td> <td>  265.061</td>\n",
       "</tr>\n",
       "<tr>\n",
       "  <th>x32</th>   <td>  204.4860</td> <td>  113.780</td> <td>    1.797</td> <td> 0.072</td> <td>  -18.525</td> <td>  427.497</td>\n",
       "</tr>\n",
       "<tr>\n",
       "  <th>x33</th>   <td> -129.2269</td> <td>  101.858</td> <td>   -1.269</td> <td> 0.205</td> <td> -328.871</td> <td>   70.417</td>\n",
       "</tr>\n",
       "<tr>\n",
       "  <th>x34</th>   <td> -142.6254</td> <td>  102.773</td> <td>   -1.388</td> <td> 0.165</td> <td> -344.062</td> <td>   58.811</td>\n",
       "</tr>\n",
       "<tr>\n",
       "  <th>x35</th>   <td> -116.9079</td> <td>  109.922</td> <td>   -1.064</td> <td> 0.288</td> <td> -332.357</td> <td>   98.541</td>\n",
       "</tr>\n",
       "<tr>\n",
       "  <th>x36</th>   <td>  -91.7825</td> <td>  102.439</td> <td>   -0.896</td> <td> 0.370</td> <td> -292.564</td> <td>  109.000</td>\n",
       "</tr>\n",
       "<tr>\n",
       "  <th>x37</th>   <td> -130.2674</td> <td>  101.763</td> <td>   -1.280</td> <td> 0.201</td> <td> -329.725</td> <td>   69.190</td>\n",
       "</tr>\n",
       "<tr>\n",
       "  <th>x38</th>   <td> -116.9571</td> <td>  109.975</td> <td>   -1.063</td> <td> 0.288</td> <td> -332.511</td> <td>   98.596</td>\n",
       "</tr>\n",
       "<tr>\n",
       "  <th>x39</th>   <td> -116.2224</td> <td>  101.898</td> <td>   -1.141</td> <td> 0.254</td> <td> -315.945</td> <td>   83.500</td>\n",
       "</tr>\n",
       "<tr>\n",
       "  <th>x40</th>   <td> -123.2143</td> <td>  101.885</td> <td>   -1.209</td> <td> 0.227</td> <td> -322.911</td> <td>   76.483</td>\n",
       "</tr>\n",
       "<tr>\n",
       "  <th>x41</th>   <td>  -26.3171</td> <td>  109.901</td> <td>   -0.239</td> <td> 0.811</td> <td> -241.726</td> <td>  189.092</td>\n",
       "</tr>\n",
       "<tr>\n",
       "  <th>x42</th>   <td>  -30.4782</td> <td>  101.802</td> <td>   -0.299</td> <td> 0.765</td> <td> -230.013</td> <td>  169.057</td>\n",
       "</tr>\n",
       "<tr>\n",
       "  <th>x43</th>   <td> -152.2938</td> <td>  143.934</td> <td>   -1.058</td> <td> 0.290</td> <td> -434.407</td> <td>  129.819</td>\n",
       "</tr>\n",
       "<tr>\n",
       "  <th>x44</th>   <td>  -59.8015</td> <td>  124.644</td> <td>   -0.480</td> <td> 0.631</td> <td> -304.105</td> <td>  184.502</td>\n",
       "</tr>\n",
       "<tr>\n",
       "  <th>x45</th>   <td> -113.3544</td> <td>  101.806</td> <td>   -1.113</td> <td> 0.266</td> <td> -312.897</td> <td>   86.188</td>\n",
       "</tr>\n",
       "<tr>\n",
       "  <th>x46</th>   <td>  -79.6529</td> <td>  102.571</td> <td>   -0.777</td> <td> 0.437</td> <td> -280.695</td> <td>  121.389</td>\n",
       "</tr>\n",
       "<tr>\n",
       "  <th>x47</th>   <td> -104.8153</td> <td>   18.851</td> <td>   -5.560</td> <td> 0.000</td> <td> -141.765</td> <td>  -67.866</td>\n",
       "</tr>\n",
       "<tr>\n",
       "  <th>x48</th>   <td>  -42.8500</td> <td>    1.577</td> <td>  -27.170</td> <td> 0.000</td> <td>  -45.941</td> <td>  -39.759</td>\n",
       "</tr>\n",
       "<tr>\n",
       "  <th>x49</th>   <td>  -67.0410</td> <td>    5.130</td> <td>  -13.068</td> <td> 0.000</td> <td>  -77.097</td> <td>  -56.986</td>\n",
       "</tr>\n",
       "<tr>\n",
       "  <th>x50</th>   <td>  -41.2933</td> <td>   26.075</td> <td>   -1.584</td> <td> 0.113</td> <td>  -92.401</td> <td>    9.815</td>\n",
       "</tr>\n",
       "<tr>\n",
       "  <th>x51</th>   <td>  -11.0958</td> <td>   11.103</td> <td>   -0.999</td> <td> 0.318</td> <td>  -32.859</td> <td>   10.667</td>\n",
       "</tr>\n",
       "<tr>\n",
       "  <th>x52</th>   <td>  -44.6941</td> <td>   12.599</td> <td>   -3.548</td> <td> 0.000</td> <td>  -69.388</td> <td>  -20.001</td>\n",
       "</tr>\n",
       "<tr>\n",
       "  <th>x53</th>   <td>  -34.9837</td> <td>    8.289</td> <td>   -4.221</td> <td> 0.000</td> <td>  -51.230</td> <td>  -18.737</td>\n",
       "</tr>\n",
       "<tr>\n",
       "  <th>x54</th>   <td>   -6.0424</td> <td>    1.064</td> <td>   -5.678</td> <td> 0.000</td> <td>   -8.128</td> <td>   -3.957</td>\n",
       "</tr>\n",
       "<tr>\n",
       "  <th>x55</th>   <td>  -11.4188</td> <td>    1.557</td> <td>   -7.335</td> <td> 0.000</td> <td>  -14.470</td> <td>   -8.367</td>\n",
       "</tr>\n",
       "<tr>\n",
       "  <th>x56</th>   <td>  -55.6814</td> <td>    4.183</td> <td>  -13.312</td> <td> 0.000</td> <td>  -63.880</td> <td>  -47.483</td>\n",
       "</tr>\n",
       "<tr>\n",
       "  <th>x57</th>   <td>   -7.2376</td> <td>    1.433</td> <td>   -5.049</td> <td> 0.000</td> <td>  -10.047</td> <td>   -4.428</td>\n",
       "</tr>\n",
       "<tr>\n",
       "  <th>x58</th>   <td>  -47.7041</td> <td>    5.282</td> <td>   -9.032</td> <td> 0.000</td> <td>  -58.057</td> <td>  -37.351</td>\n",
       "</tr>\n",
       "<tr>\n",
       "  <th>x59</th>   <td>  -25.8329</td> <td>   12.831</td> <td>   -2.013</td> <td> 0.044</td> <td>  -50.982</td> <td>   -0.684</td>\n",
       "</tr>\n",
       "</table>\n",
       "<table class=\"simpletable\">\n",
       "<tr>\n",
       "  <th>Omnibus:</th>       <td>25451.359</td> <th>  Durbin-Watson:     </th>  <td>   1.985</td> \n",
       "</tr>\n",
       "<tr>\n",
       "  <th>Prob(Omnibus):</th>  <td> 0.000</td>   <th>  Jarque-Bera (JB):  </th> <td>390163.399</td>\n",
       "</tr>\n",
       "<tr>\n",
       "  <th>Skew:</th>           <td> 2.650</td>   <th>  Prob(JB):          </th>  <td>    0.00</td> \n",
       "</tr>\n",
       "<tr>\n",
       "  <th>Kurtosis:</th>       <td>16.951</td>   <th>  Cond. No.          </th>  <td>2.88e+03</td> \n",
       "</tr>\n",
       "</table><br/><br/>Warnings:<br/>[1] Standard Errors assume that the covariance matrix of the errors is correctly specified.<br/>[2] The condition number is large, 2.88e+03. This might indicate that there are<br/>strong multicollinearity or other numerical problems."
      ],
      "text/plain": [
       "<class 'statsmodels.iolib.summary.Summary'>\n",
       "\"\"\"\n",
       "                            OLS Regression Results                            \n",
       "==============================================================================\n",
       "Dep. Variable:                      y   R-squared:                       0.510\n",
       "Model:                            OLS   Adj. R-squared:                  0.509\n",
       "Method:                 Least Squares   F-statistic:                     740.2\n",
       "Date:                Thu, 22 Apr 2021   Prob (F-statistic):               0.00\n",
       "Time:                        23:48:20   Log-Likelihood:            -2.5395e+05\n",
       "No. Observations:               42041   AIC:                         5.080e+05\n",
       "Df Residuals:                   41981   BIC:                         5.085e+05\n",
       "Df Model:                          59                                         \n",
       "Covariance Type:            nonrobust                                         \n",
       "==============================================================================\n",
       "                 coef    std err          t      P>|t|      [0.025      0.975]\n",
       "------------------------------------------------------------------------------\n",
       "const        223.6545    102.944      2.173      0.030      21.883     425.426\n",
       "x1           273.2905     14.092     19.393      0.000     245.669     300.912\n",
       "x2           296.5085      7.998     37.073      0.000     280.832     312.185\n",
       "x3           472.2054     13.890     33.995      0.000     444.980     499.431\n",
       "x4           -41.8946      8.268     -5.067      0.000     -58.101     -25.689\n",
       "x5           -36.6244      9.173     -3.993      0.000     -54.603     -18.646\n",
       "x6            -9.5923      8.113     -1.182      0.237     -25.493       6.309\n",
       "x7            -0.6878      7.279     -0.094      0.925     -14.954      13.579\n",
       "x8           195.9176      5.082     38.550      0.000     185.957     205.879\n",
       "x9           199.2517      3.481     57.239      0.000     192.429     206.075\n",
       "x10          -14.0367     19.403     -0.723      0.469     -52.067      23.993\n",
       "x11         -256.3623     24.803    -10.336      0.000    -304.978    -207.747\n",
       "x12           18.6126      1.382     13.472      0.000      15.905      21.320\n",
       "x13           -3.5999      1.244     -2.894      0.004      -6.038      -1.162\n",
       "x14            3.3457      4.765      0.702      0.483      -5.995      12.686\n",
       "x15            1.0584      4.743      0.223      0.823      -8.238      10.355\n",
       "x16          -23.7315      1.186    -20.016      0.000     -26.055     -21.408\n",
       "x17         -143.0244      3.455    -41.394      0.000    -149.797    -136.252\n",
       "x18            7.0743      1.297      5.456      0.000       4.533       9.616\n",
       "x19           -4.7176     12.959     -0.364      0.716     -30.118      20.683\n",
       "x20            3.7061      1.074      3.450      0.001       1.601       5.812\n",
       "x21         -129.3525    101.756     -1.271      0.204    -328.796      70.091\n",
       "x22          -27.3570    107.281     -0.255      0.799    -237.631     182.917\n",
       "x23          -72.7098    101.904     -0.714      0.476    -272.444     127.025\n",
       "x24          -66.4774    102.728     -0.647      0.518    -267.826     134.871\n",
       "x25          -67.9676    102.262     -0.665      0.506    -268.404     132.469\n",
       "x26          -45.2684    103.508     -0.437      0.662    -248.146     157.609\n",
       "x27          -90.6200    113.784     -0.796      0.426    -313.640     132.400\n",
       "x28         -182.5406    143.974     -1.268      0.205    -464.732      99.651\n",
       "x29         -117.6698    101.767     -1.156      0.248    -317.135      81.795\n",
       "x30         -171.9306    108.803     -1.580      0.114    -385.187      41.326\n",
       "x31          -17.1674    143.993     -0.119      0.905    -299.396     265.061\n",
       "x32          204.4860    113.780      1.797      0.072     -18.525     427.497\n",
       "x33         -129.2269    101.858     -1.269      0.205    -328.871      70.417\n",
       "x34         -142.6254    102.773     -1.388      0.165    -344.062      58.811\n",
       "x35         -116.9079    109.922     -1.064      0.288    -332.357      98.541\n",
       "x36          -91.7825    102.439     -0.896      0.370    -292.564     109.000\n",
       "x37         -130.2674    101.763     -1.280      0.201    -329.725      69.190\n",
       "x38         -116.9571    109.975     -1.063      0.288    -332.511      98.596\n",
       "x39         -116.2224    101.898     -1.141      0.254    -315.945      83.500\n",
       "x40         -123.2143    101.885     -1.209      0.227    -322.911      76.483\n",
       "x41          -26.3171    109.901     -0.239      0.811    -241.726     189.092\n",
       "x42          -30.4782    101.802     -0.299      0.765    -230.013     169.057\n",
       "x43         -152.2938    143.934     -1.058      0.290    -434.407     129.819\n",
       "x44          -59.8015    124.644     -0.480      0.631    -304.105     184.502\n",
       "x45         -113.3544    101.806     -1.113      0.266    -312.897      86.188\n",
       "x46          -79.6529    102.571     -0.777      0.437    -280.695     121.389\n",
       "x47         -104.8153     18.851     -5.560      0.000    -141.765     -67.866\n",
       "x48          -42.8500      1.577    -27.170      0.000     -45.941     -39.759\n",
       "x49          -67.0410      5.130    -13.068      0.000     -77.097     -56.986\n",
       "x50          -41.2933     26.075     -1.584      0.113     -92.401       9.815\n",
       "x51          -11.0958     11.103     -0.999      0.318     -32.859      10.667\n",
       "x52          -44.6941     12.599     -3.548      0.000     -69.388     -20.001\n",
       "x53          -34.9837      8.289     -4.221      0.000     -51.230     -18.737\n",
       "x54           -6.0424      1.064     -5.678      0.000      -8.128      -3.957\n",
       "x55          -11.4188      1.557     -7.335      0.000     -14.470      -8.367\n",
       "x56          -55.6814      4.183    -13.312      0.000     -63.880     -47.483\n",
       "x57           -7.2376      1.433     -5.049      0.000     -10.047      -4.428\n",
       "x58          -47.7041      5.282     -9.032      0.000     -58.057     -37.351\n",
       "x59          -25.8329     12.831     -2.013      0.044     -50.982      -0.684\n",
       "==============================================================================\n",
       "Omnibus:                    25451.359   Durbin-Watson:                   1.985\n",
       "Prob(Omnibus):                  0.000   Jarque-Bera (JB):           390163.399\n",
       "Skew:                           2.650   Prob(JB):                         0.00\n",
       "Kurtosis:                      16.951   Cond. No.                     2.88e+03\n",
       "==============================================================================\n",
       "\n",
       "Warnings:\n",
       "[1] Standard Errors assume that the covariance matrix of the errors is correctly specified.\n",
       "[2] The condition number is large, 2.88e+03. This might indicate that there are\n",
       "strong multicollinearity or other numerical problems.\n",
       "\"\"\""
      ]
     },
     "execution_count": 214,
     "metadata": {},
     "output_type": "execute_result"
    }
   ],
   "source": [
    "model = sm.OLS(y_train, sm.add_constant(X_train).astype('float'))\n",
    "results = model.fit()\n",
    "results.summary()"
   ]
  },
  {
   "cell_type": "markdown",
   "metadata": {},
   "source": [
    "- **R sauqre** is 0.51, meaning 51% of total variance can be explained by linear model\n",
    "- The Root of Mean Squared Error (MSE) 100 is a little too high, not good enough"
   ]
  },
  {
   "cell_type": "markdown",
   "metadata": {},
   "source": [
    "## 2.3 Neural Nets Regression"
   ]
  },
  {
   "cell_type": "code",
   "execution_count": 223,
   "metadata": {},
   "outputs": [
    {
     "name": "stdout",
     "output_type": "stream",
     "text": [
      "RMSE of Training Data: 25.762166\n",
      "RMSE of Testing Data: 36.338294\n"
     ]
    }
   ],
   "source": [
    "clf = MLPClassifier(hidden_layer_sizes=(100, 100, 100,100))\n",
    "clf.fit(X_train, y_train)\n",
    "preds_train = clf.predict(X_train)\n",
    "preds_test = clf.predict(X_test)\n",
    "rmse_train = np.sqrt(mean_squared_error(y_train, preds_train))\n",
    "rmse_test = np.sqrt(mean_squared_error(y_test, preds_test))\n",
    "print(\"RMSE of Training Data: %f\" % (rmse_train))\n",
    "print(\"RMSE of Testing Data: %f\" % (rmse_test))"
   ]
  },
  {
   "cell_type": "markdown",
   "metadata": {},
   "source": [
    "## 2.4 XGBoost Tree Model\n",
    "We will use the XGboost model to help to build the XGB regressors and the GridSearch function in Sklearn for the parameters tuning."
   ]
  },
  {
   "cell_type": "code",
   "execution_count": 224,
   "metadata": {},
   "outputs": [
    {
     "name": "stdout",
     "output_type": "stream",
     "text": [
      "{'colsample_bytree': 1, 'gamma': 0.0, 'learning_rate': 0.1, 'max_depth': 7, 'n_estimators': 200}\n"
     ]
    }
   ],
   "source": [
    "# create a baseline\n",
    "booster = xgb.XGBRegressor()\n",
    "\n",
    "# create Grid\n",
    "param_grid = {'n_estimators': [100, 150, 200],\n",
    "              'learning_rate': [0.01, 0.05, 0.1], \n",
    "              'max_depth': [3, 4, 5, 6, 7],\n",
    "              'colsample_bytree': [0.6, 0.7, 1],\n",
    "              'gamma': [0.0, 0.1, 0.2]}\n",
    "\n",
    "# instantiate the tuned random forest\n",
    "booster_grid_search = GridSearchCV(booster, param_grid, cv=3, n_jobs=-1)\n",
    "\n",
    "# train the tuned random forest\n",
    "booster_grid_search.fit(X_train, y_train)\n",
    "\n",
    "# print best estimator parameters found during the grid search\n",
    "print(booster_grid_search.best_params_)"
   ]
  },
  {
   "cell_type": "code",
   "execution_count": 226,
   "metadata": {},
   "outputs": [
    {
     "name": "stdout",
     "output_type": "stream",
     "text": [
      "The root of mean squared error for XGBoost Tree is 32.6795\n"
     ]
    }
   ],
   "source": [
    "# instantiate xgboost with best parameters\n",
    "booster = xgb.XGBRegressor(colsample_bytree=1, gamma=0.2, learning_rate=0.1, \n",
    "                           max_depth=7, n_estimators=200)\n",
    "\n",
    "# train\n",
    "booster.fit(X_train, y_train)\n",
    "\n",
    "# predict\n",
    "result = booster.predict(X_test)\n",
    "rmse = round(math.sqrt(sum((result.reshape(-1,1)-y_test.reshape(-1,1))**2)/len(y_test)),4)\n",
    "print(f'The root of mean squared error for XGBoost Tree is {rmse}')"
   ]
  },
  {
   "cell_type": "markdown",
   "metadata": {},
   "source": [
    "## 2.5 Random Forest Model"
   ]
  },
  {
   "cell_type": "code",
   "execution_count": 227,
   "metadata": {},
   "outputs": [
    {
     "name": "stdout",
     "output_type": "stream",
     "text": [
      "The root of mean squared error for Random Forest is 20.8127\n"
     ]
    }
   ],
   "source": [
    "# instantiate\n",
    "rf = RandomForestRegressor()\n",
    "\n",
    "# train\n",
    "rf.fit(X_train, y_train)\n",
    "\n",
    "# predict\n",
    "result = rf.predict(X_test)\n",
    "\n",
    "rmse = round(math.sqrt(sum((result.reshape(-1,1)-y_test.reshape(-1,1))**2)/len(y_test)),4)\n",
    "print(f'The root of mean squared error for Random Forest is {rmse}')"
   ]
  },
  {
   "cell_type": "markdown",
   "metadata": {},
   "source": [
    "## 2.6 KNN Model"
   ]
  },
  {
   "cell_type": "code",
   "execution_count": 231,
   "metadata": {},
   "outputs": [
    {
     "name": "stdout",
     "output_type": "stream",
     "text": [
      "RMSE of Training Data: 38.300973\n",
      "RMSE of Testing Data: 45.639623\n"
     ]
    }
   ],
   "source": [
    "knn = KNeighborsRegressor(n_neighbors=7)#1 is the best,yet overfit \n",
    "# fit the model using the training data and training targets\n",
    "knn.fit(X_train, y_train)\n",
    "preds_train = knn.predict(X_train)\n",
    "preds_test = knn.predict(X_test)\n",
    "rmse_train = np.sqrt(mean_squared_error(y_train, preds_train))\n",
    "rmse_test = np.sqrt(mean_squared_error(y_test, preds_test))\n",
    "print(\"RMSE of Training Data: %f\" % (rmse_train))\n",
    "print(\"RMSE of Testing Data: %f\" % (rmse_test))"
   ]
  },
  {
   "cell_type": "markdown",
   "metadata": {},
   "source": [
    "## 2.7 Summary\n",
    "After tranforming the some columns and deleting outliner, we get a relatively clean dataset. \n",
    "Then, we applied 7 models which are 4 supervised \n",
    "- Linear Regression\n",
    "- Ridge Regression\n",
    "- Lasso Regression\n",
    "- Neural Nets Regression\n",
    "\n",
    "and 3 unsupervised models\n",
    "- XGBoost Tree\n",
    "- Random Forest\n",
    "- KNN\n",
    "\n",
    "The first three simple regressions model don't work well since the RMSE is around 100. And the random forest model works the bese regards to RMSE. \n",
    "\n"
   ]
  },
  {
   "cell_type": "markdown",
   "metadata": {},
   "source": [
    "# 3. Insights and Recommendations\n",
    "\n",
    "## 3.1 Insights\n",
    "Even though the number of property in Back Bay or Downtown is much more than other areas, the graph shows that the North East Boston is actually hosting most customers per property based on our assumption. From this interesting phenomenon we can see how Airbnb interact the nature of Boston. First of all, the iconic attractions and tourist destinations are mostly located in the entertainment and downtown area, therefore, this geographic distribution fosters numerous Airbnb property. However, from a customer's perspective, staying in such area is not necessarily the best choice due to price consideration. This is where the North East Boston comes in and plays an important role. Its distance from the central Boston is neither too far to cause painful traffic nor too close to become unaffordable. Moreover, it is the closest district from the airport, which makes it even more favorable among all the other district. From this point of view, we can conclude that Airbnb is affecting the neighborhoods by chaneling more tourists to the North East Boston area, which will help improve the area's economics.\n",
    "\n",
    "we can see that in past 10 years, the popularity of Airbnb is growing gradually, but it has slowed down and even shows signs of decline in recent years. The using of Airbnb reaches peaks around summer holidays and reach the bottom around December. That shows a clear pattern.\n",
    "\n",
    "As the model indicated, if a property can accommodate more people, has more bathrooms or/and bedrooms, has higher cleaning fees, has cooking basics, is closer to the Prudential Center, is family/kids friendly, whose host has a profile picture, is renting the entire place, allows instant book etc., its price on average will be higher. \n",
    "\n",
    "## 3.2 Recommendations\n",
    "For hosts:\n",
    "- Pay attentionto the location of the houses. If the location is near the center Boston, feel free to price the house a little higher and if it's the opposite, try to avoid price the houses too high.\n",
    "- People are willing to pay higher price for clean and convenient place. Make sure the good cleanliness in the houses and highlight this in their house descriptions.\n",
    "- It helps to make the house more attractive if house description includes the distance to central Boston or stations, good cleanliness, family/ kids friendly, instant book etc..\n",
    "- Friday and Saturday arae the two most popular days of a week and late spring and summer are the most seasons in a year. So, the hosts can charge more during the 'hot' time. \n",
    "\n",
    "For Airbnb\n",
    "- With the help of our price models, Airbnb can know the market better and provide appropriate price suggestions for hosts.\n",
    "- Knowing the factors that influence the price and popularity of houses help Airbnb make better promotion approaches and marketing strategies. For example, develping more available houses in popular districts such as Back Bay and South Boston Waterfront."
   ]
  }
 ],
 "metadata": {
  "kernelspec": {
   "display_name": "Python 3",
   "language": "python",
   "name": "python3"
  },
  "language_info": {
   "codemirror_mode": {
    "name": "ipython",
    "version": 3
   },
   "file_extension": ".py",
   "mimetype": "text/x-python",
   "name": "python",
   "nbconvert_exporter": "python",
   "pygments_lexer": "ipython3",
   "version": "3.8.3"
  }
 },
 "nbformat": 4,
 "nbformat_minor": 4
}
